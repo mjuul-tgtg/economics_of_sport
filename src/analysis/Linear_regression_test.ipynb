{
 "cells": [
  {
   "cell_type": "code",
   "execution_count": 21,
   "metadata": {
    "collapsed": true
   },
   "outputs": [],
   "source": [
    "import pymysql\n",
    "import pandas as pd\n",
    "import shap as shap\n",
    "import matplotlib.pyplot as plt\n"
   ]
  },
  {
   "cell_type": "markdown",
   "source": [
    "Get Data"
   ],
   "metadata": {
    "collapsed": false
   }
  },
  {
   "cell_type": "code",
   "execution_count": 22,
   "outputs": [],
   "source": [
    "# Set up the connection details\n",
    "hostname = 'localhost'\n",
    "username = 'root'\n",
    "password = 'password'\n",
    "database = 'economics_of_sports'\n",
    "\n",
    "# Create a connection\n",
    "connection = pymysql.connect(host=hostname,\n",
    "                             user=username,\n",
    "                             password=password,\n",
    "                             db=database)\n",
    "\n",
    "# Create a cursor\n",
    "cursor = connection.cursor()\n",
    "\n",
    "query = '''\n",
    "select p.ws_id, tmvr.market_value, p.name, p.nationality, p.continent,  p.heigt , tmvr.player_age, p.nationality = l.country , tmvr.season,\n",
    "    IF(LOCATE(' (', p.posistion) = 0, p.posistion, LEFT(p.posistion, LOCATE(' (', p.posistion) - 1)) AS posistion,\n",
    "       ws_nl.tournament, ws_nl.elo_score, ws_nl.rating, ws_nl.minutes_played, ws_nl.motm_awards\n",
    "        #,ws_ec.tournament, ws_ec.elo_score, ws_ec.rating, ws_ec.minutes_played, ws_ec.motm_awards\n",
    "        #,ws_nl.tournament, ws_ntc.elo_score, ws_ntc.rating, ws_ntc.minutes_played, ws_ntc.motm_awards\n",
    "        #,ws_nc.tournament, ws_nc.elo_score, ws_nc.rating, ws_nc.minutes_played, ws_nc.motm_awards\n",
    "from player p\n",
    "left join tm_market_value_raw tmvr on p.tm_id = tmvr.tm_player_id\n",
    "    left join team t on tmvr.team_name = t.name\n",
    "left join league l on t.league_id = l.id\n",
    "left join (\n",
    "    select * from ws_season\n",
    "             where type = 'National Leagues'\n",
    ") as ws_nl on ws_nl.ws_player_id = p.ws_id and ws_nl.season = tmvr.season\n",
    "left join (\n",
    "    select * from ws_season\n",
    "             where type = 'European Cups'\n",
    ") as ws_ec on ws_ec.ws_player_id = p.ws_id and ws_ec.season = tmvr.season\n",
    "left join (\n",
    "    select * from ws_season\n",
    "             where type = 'National Team Cups'\n",
    ") as ws_ntc on ws_ntc.ws_player_id = p.ws_id and ws_ntc.season = tmvr.season\n",
    "left join (\n",
    "    select * from ws_season\n",
    "             where type = 'National Cups'\n",
    ") as ws_nc on ws_nc.ws_player_id = p.ws_id and ws_nc.season = tmvr.season\n",
    "where ws_nl.season is not null\n",
    "group by posistion, ws_nl.tournament, tmvr.market_value, p.name, p.nationality, p.continent, p.heigt, tmvr.player_age, p.nationality = l.country, tmvr.season, p.ws_id, ws_nl.elo_score, ws_nl.rating, ws_nl.minutes_played, ws_nl.motm_awards, ws_ec.tournament, ws_ec.elo_score, ws_ec.rating, ws_ec.minutes_played, ws_ec.motm_awards, ws_nl.tournament, ws_ntc.elo_score, ws_ntc.rating, ws_ntc.minutes_played, ws_ntc.motm_awards, ws_nc.tournament, ws_nc.elo_score, ws_nc.rating, ws_nc.minutes_played, ws_nc.motm_awards\n",
    "order by name, tmvr.season'''\n",
    "\n",
    "# Execute a query to select all from the \"employees\" table\n",
    "cursor.execute(query=query)\n",
    "\n",
    "# Fetch all the rows\n",
    "rows = cursor.fetchall()\n",
    "\n",
    "# Get column names\n",
    "column_names = [i[0] for i in cursor.description]\n",
    "\n",
    "# Convert the data to a pandas DataFrame\n",
    "df = pd.DataFrame(rows, columns=column_names)\n",
    "\n",
    "# Close the cursor and connection\n",
    "cursor.close()\n",
    "connection.close()"
   ],
   "metadata": {
    "collapsed": false
   }
  },
  {
   "cell_type": "markdown",
   "source": [
    "Clean up data and split"
   ],
   "metadata": {
    "collapsed": false
   }
  },
  {
   "cell_type": "code",
   "execution_count": 23,
   "outputs": [],
   "source": [
    "df = df.dropna()\n",
    "targets=df.market_value\n",
    "df[[\"rating\"]] = df[[\"rating\"]].apply(pd.to_numeric)\n",
    "\n",
    "inputs=df.drop(['ws_id', 'name', 'tournament', 'market_value'],axis='columns')\n",
    "\n",
    "inputs = pd.get_dummies(inputs)\n",
    "\n",
    "from sklearn.model_selection import train_test_split, GridSearchCV\n",
    "\n",
    "X_train, X_test, y_train, y_test = train_test_split(inputs, targets, test_size=0.25, random_state=3)"
   ],
   "metadata": {
    "collapsed": false
   }
  },
  {
   "cell_type": "markdown",
   "source": [
    "Create train model"
   ],
   "metadata": {
    "collapsed": false
   }
  },
  {
   "cell_type": "code",
   "execution_count": 24,
   "outputs": [
    {
     "name": "stdout",
     "output_type": "stream",
     "text": [
      "0.47158295597124333\n"
     ]
    }
   ],
   "source": [
    "from sklearn.linear_model import LinearRegression\n",
    "reg = LinearRegression()\n",
    "reg.fit(X_train, y_train)\n",
    "train_sq = reg.score(X_train, y_train)\n",
    "r_sq = reg.score(X_test, y_test)\n",
    "print(r_sq)\n"
   ],
   "metadata": {
    "collapsed": false
   }
  },
  {
   "cell_type": "markdown",
   "source": [
    "Analyse model"
   ],
   "metadata": {
    "collapsed": false
   }
  },
  {
   "cell_type": "code",
   "execution_count": 25,
   "outputs": [
    {
     "ename": "AttributeError",
     "evalue": "'LinearRegression' object has no attribute 'feature_importances_'",
     "output_type": "error",
     "traceback": [
      "\u001B[0;31m---------------------------------------------------------------------------\u001B[0m",
      "\u001B[0;31mAttributeError\u001B[0m                            Traceback (most recent call last)",
      "Input \u001B[0;32mIn [25]\u001B[0m, in \u001B[0;36m<cell line: 2>\u001B[0;34m()\u001B[0m\n\u001B[1;32m      1\u001B[0m \u001B[38;5;66;03m# Get feature importances\u001B[39;00m\n\u001B[0;32m----> 2\u001B[0m importances \u001B[38;5;241m=\u001B[39m \u001B[43mreg\u001B[49m\u001B[38;5;241;43m.\u001B[39;49m\u001B[43mfeature_importances_\u001B[49m\n\u001B[1;32m      4\u001B[0m \u001B[38;5;66;03m# Create a pandas DataFrame with feature importances\u001B[39;00m\n\u001B[1;32m      5\u001B[0m importance_df \u001B[38;5;241m=\u001B[39m pd\u001B[38;5;241m.\u001B[39mDataFrame({\u001B[38;5;124m\"\u001B[39m\u001B[38;5;124mFeature\u001B[39m\u001B[38;5;124m\"\u001B[39m: X_train\u001B[38;5;241m.\u001B[39mcolumns, \u001B[38;5;124m\"\u001B[39m\u001B[38;5;124mImportance\u001B[39m\u001B[38;5;124m\"\u001B[39m: importances})\n",
      "\u001B[0;31mAttributeError\u001B[0m: 'LinearRegression' object has no attribute 'feature_importances_'"
     ]
    }
   ],
   "source": [
    "# Get feature importances\n",
    "importances = reg.feature_importances_\n",
    "\n",
    "# Create a pandas DataFrame with feature importances\n",
    "importance_df = pd.DataFrame({\"Feature\": X_train.columns, \"Importance\": importances})\n",
    "\n",
    "# Sort the DataFrame by importances\n",
    "importance_df = importance_df.sort_values(by=\"Importance\", ascending=False)\n",
    "\n",
    "# Summarize feature importances\n",
    "for i, row in importance_df.iterrows():\n",
    "    print(f'Feature {row[\"Feature\"]}: {row[\"Importance\"]}')\n",
    "\n",
    "# Plot feature importances\n",
    "plt.barh(importance_df[\"Feature\"], importance_df[\"Importance\"])\n",
    "plt.xlabel(\"Importance\")\n",
    "plt.ylabel(\"Features\")\n",
    "plt.title(\"Feature importances\")\n",
    "plt.gca().invert_yaxis()  # Invert the y-axis to show the most important at the top\n",
    "plt.show()"
   ],
   "metadata": {
    "collapsed": false
   }
  },
  {
   "cell_type": "markdown",
   "source": [],
   "metadata": {
    "collapsed": false
   }
  }
 ],
 "metadata": {
  "kernelspec": {
   "display_name": "Python 3",
   "language": "python",
   "name": "python3"
  },
  "language_info": {
   "codemirror_mode": {
    "name": "ipython",
    "version": 2
   },
   "file_extension": ".py",
   "mimetype": "text/x-python",
   "name": "python",
   "nbconvert_exporter": "python",
   "pygments_lexer": "ipython2",
   "version": "2.7.6"
  }
 },
 "nbformat": 4,
 "nbformat_minor": 0
}
